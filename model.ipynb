{
 "cells": [
  {
   "cell_type": "code",
   "metadata": {
    "collapsed": true,
    "pycharm": {
     "name": "#%%\n"
    }
   },
   "source": [
    "import torch\n",
    "import pandas as pd\n",
    "import torch.nn as nn\n",
    "import torch.optim as optim\n",
    "import torch.nn.functional as F\n",
    "import matplotlib.pyplot as plt\n",
    "from torch.utils.data import TensorDataset, DataLoader"
   ],
   "execution_count": 20,
   "outputs": []
  },
  {
   "cell_type": "code",
   "execution_count": 21,
   "outputs": [],
   "source": [
    "train_data = pd.read_csv('Data/train.csv')\n",
    "test_data = pd.read_csv('Data/test.csv')"
   ],
   "metadata": {
    "collapsed": false,
    "pycharm": {
     "name": "#%%\n"
    }
   }
  },
  {
   "cell_type": "code",
   "execution_count": 22,
   "outputs": [],
   "source": [
    "y_train = train_data['label'].values\n",
    "x_train = train_data.drop('label',axis=1).values\n",
    "x_test = test_data.values\n",
    "x_test = torch.FloatTensor(x_test)"
   ],
   "metadata": {
    "collapsed": false,
    "pycharm": {
     "name": "#%%\n"
    }
   }
  },
  {
   "cell_type": "code",
   "execution_count": 23,
   "outputs": [],
   "source": [
    "class Model(nn.Module):\n",
    "\n",
    "    def __init__(self, ip_size, op_size):\n",
    "        super(Model, self).__init__()\n",
    "        self.fc1 = nn.Linear(ip_size, 200)\n",
    "        self.fc2 = nn.Linear(200, 100)\n",
    "        self.fc3 = nn.Linear(100, 50)\n",
    "        self.fc4 = nn.Linear(50, op_size)\n",
    "\n",
    "    def forward(self, x):\n",
    "        x = F.relu(self.fc1(x))\n",
    "        x = F.relu(self.fc2(x))\n",
    "        x = F.relu(self.fc3(x))\n",
    "        x = self.fc4(x)\n",
    "        return x"
   ],
   "metadata": {
    "collapsed": false,
    "pycharm": {
     "name": "#%%\n"
    }
   }
  },
  {
   "cell_type": "code",
   "execution_count": 24,
   "outputs": [],
   "source": [
    "device = torch.device('cuda' if torch.cuda.is_available() else 'cpu')"
   ],
   "metadata": {
    "collapsed": false,
    "pycharm": {
     "name": "#%%\n"
    }
   }
  },
  {
   "cell_type": "code",
   "execution_count": 25,
   "outputs": [],
   "source": [
    "input_size = 784\n",
    "output_size = 10\n",
    "learning_rate = 0.001\n",
    "batch_size = 64\n",
    "epochs = 20\n",
    "tr_ds = 'Training Dataset'\n",
    "te_ds = 'Test Dataset'"
   ],
   "metadata": {
    "collapsed": false,
    "pycharm": {
     "name": "#%%\n"
    }
   }
  },
  {
   "cell_type": "code",
   "execution_count": 26,
   "outputs": [],
   "source": [
    "train_dataset = TensorDataset(torch.FloatTensor(x_train), torch.LongTensor(y_train))\n",
    "train_loader = DataLoader(dataset=train_dataset, batch_size=batch_size, shuffle=True)\n",
    "test_dataset = TensorDataset(torch.FloatTensor(x_test))\n",
    "test_loader = DataLoader(dataset=test_dataset, batch_size=batch_size, shuffle=True)"
   ],
   "metadata": {
    "collapsed": false,
    "pycharm": {
     "name": "#%%\n"
    }
   }
  },
  {
   "cell_type": "code",
   "execution_count": 27,
   "outputs": [],
   "source": [
    "model = Model(input_size, output_size).to(device=device)"
   ],
   "metadata": {
    "collapsed": false,
    "pycharm": {
     "name": "#%%\n"
    }
   }
  },
  {
   "cell_type": "code",
   "execution_count": 28,
   "outputs": [],
   "source": [
    "criterion = nn.CrossEntropyLoss()\n",
    "optimizer = optim.Adam(model.parameters(), lr=learning_rate)"
   ],
   "metadata": {
    "collapsed": false,
    "pycharm": {
     "name": "#%%\n"
    }
   }
  },
  {
   "cell_type": "code",
   "execution_count": 29,
   "outputs": [],
   "source": [
    "def check_accuracy(loader, model):\n",
    "    correct = 0\n",
    "    samples = 0\n",
    "    model.eval()\n",
    "    with torch.no_grad():\n",
    "        for x, y in loader:\n",
    "            x = x.to(device=device)\n",
    "            y = y.to(device=device)\n",
    "            x = x.reshape(x.shape[0],-1)\n",
    "\n",
    "            y_pred = model(x)\n",
    "            _, y_pred = y_pred.max(1)\n",
    "            correct += (y_pred == y).sum()\n",
    "            samples += y_pred.size(0)\n",
    "\n",
    "\n",
    "        print(f'Accuracy is {correct} / {samples} = {(correct/samples) * 100:.2f}')\n",
    "    model.train()"
   ],
   "metadata": {
    "collapsed": false,
    "pycharm": {
     "name": "#%%\n"
    }
   }
  },
  {
   "cell_type": "code",
   "execution_count": 30,
   "outputs": [
    {
     "name": "stdout",
     "output_type": "stream",
     "text": [
      "Accuracy is 5192 / 42000 = 12.36\n",
      "Epoch: 0 and Loss: 0.270361\n",
      "Accuracy is 40145 / 42000 = 95.58\n",
      "Epoch: 1 and Loss: 0.133724\n",
      "Accuracy is 40930 / 42000 = 97.45\n",
      "Epoch: 2 and Loss: 0.098218\n",
      "Accuracy is 40754 / 42000 = 97.03\n",
      "Epoch: 3 and Loss: 0.080090\n",
      "Accuracy is 41293 / 42000 = 98.32\n",
      "Epoch: 4 and Loss: 0.071482\n",
      "Accuracy is 41375 / 42000 = 98.51\n",
      "Epoch: 5 and Loss: 0.064902\n",
      "Accuracy is 41545 / 42000 = 98.92\n",
      "Epoch: 6 and Loss: 0.054948\n",
      "Accuracy is 41377 / 42000 = 98.52\n",
      "Epoch: 7 and Loss: 0.051480\n",
      "Accuracy is 41457 / 42000 = 98.71\n",
      "Epoch: 8 and Loss: 0.045996\n",
      "Accuracy is 41521 / 42000 = 98.86\n",
      "Epoch: 9 and Loss: 0.050738\n",
      "Accuracy is 41566 / 42000 = 98.97\n",
      "Epoch: 10 and Loss: 0.038872\n",
      "Accuracy is 41525 / 42000 = 98.87\n",
      "Epoch: 11 and Loss: 0.033285\n",
      "Accuracy is 41499 / 42000 = 98.81\n",
      "Epoch: 12 and Loss: 0.039735\n",
      "Accuracy is 41574 / 42000 = 98.99\n",
      "Epoch: 13 and Loss: 0.035266\n",
      "Accuracy is 41676 / 42000 = 99.23\n",
      "Epoch: 14 and Loss: 0.029638\n",
      "Accuracy is 41717 / 42000 = 99.33\n",
      "Epoch: 15 and Loss: 0.030285\n",
      "Accuracy is 41731 / 42000 = 99.36\n",
      "Epoch: 16 and Loss: 0.036081\n",
      "Accuracy is 41665 / 42000 = 99.20\n",
      "Epoch: 17 and Loss: 0.026543\n",
      "Accuracy is 41736 / 42000 = 99.37\n",
      "Epoch: 18 and Loss: 0.021372\n",
      "Accuracy is 41834 / 42000 = 99.60\n",
      "Epoch: 19 and Loss: 0.028916\n"
     ]
    },
    {
     "data": {
      "text/plain": "Text(0.5, 0, 'epoch')"
     },
     "execution_count": 30,
     "metadata": {},
     "output_type": "execute_result"
    },
    {
     "data": {
      "text/plain": "<Figure size 432x288 with 1 Axes>",
      "image/png": "[encoded data removed]"
     },
     "metadata": {
      "needs_background": "light"
     },
     "output_type": "display_data"
    }
   ],
   "source": [
    "losses = []\n",
    "\n",
    "for epoch in range(epochs):\n",
    "    batch_count = 0\n",
    "    total_loss = 0\n",
    "    check_accuracy(train_loader, model)\n",
    "    for batch_index, (data,targets) in enumerate(train_loader):\n",
    "        data = data.to(device=device)\n",
    "        targets = targets.to(device=device)\n",
    "\n",
    "        y_pred = model(data)\n",
    "        loss = criterion(y_pred, targets)\n",
    "\n",
    "        total_loss += loss.item()\n",
    "        batch_count += 1\n",
    "\n",
    "        optimizer.zero_grad()\n",
    "        loss.backward()\n",
    "        optimizer.step()\n",
    "\n",
    "    avg_loss = total_loss/batch_count\n",
    "    print(f'Epoch: {epoch} and Loss: {avg_loss:.6f}')\n",
    "\n",
    "\n",
    "    losses.append(round(avg_loss,6))\n",
    "\n",
    "plt.plot(range(epochs), losses)\n",
    "plt.ylabel('Loss')\n",
    "plt.xlabel('epoch')"
   ],
   "metadata": {
    "collapsed": false,
    "pycharm": {
     "name": "#%%\n"
    }
   }
  },
  {
   "cell_type": "code",
   "execution_count": 31,
   "outputs": [
    {
     "name": "stdout",
     "output_type": "stream",
     "text": [
      "Accuracy is 41547 / 42000 = 98.92\n"
     ]
    }
   ],
   "source": [
    "check_accuracy(train_loader, model)"
   ],
   "metadata": {
    "collapsed": false,
    "pycharm": {
     "name": "#%%\n"
    }
   }
  },
  {
   "cell_type": "code",
   "execution_count": 32,
   "outputs": [],
   "source": [
    "y_pred = model(x_test)\n",
    "y_pred = torch.argmax(y_pred,dim=1)"
   ],
   "metadata": {
    "collapsed": false,
    "pycharm": {
     "name": "#%%\n"
    }
   }
  },
  {
   "cell_type": "code",
   "execution_count": 33,
   "outputs": [
    {
     "name": "stdout",
     "output_type": "stream",
     "text": [
      "tensor([2, 0, 9,  ..., 3, 9, 2])\n",
      "torch.Size([28000])\n"
     ]
    }
   ],
   "source": [
    "print(y_pred)\n",
    "print(y_pred.shape)"
   ],
   "metadata": {
    "collapsed": false,
    "pycharm": {
     "name": "#%%\n"
    }
   }
  },
  {
   "cell_type": "code",
   "execution_count": 34,
   "outputs": [],
   "source": [
    "op = pd.DataFrame(y_pred.detach().numpy())"
   ],
   "metadata": {
    "collapsed": false,
    "pycharm": {
     "name": "#%%\n"
    }
   }
  },
  {
   "cell_type": "code",
   "execution_count": 35,
   "outputs": [],
   "source": [
    "op.rename( columns={0 :'Label'}, inplace=True )\n",
    "op['ImageId'] = op.index + 1\n",
    "op = op[['ImageId','Label']]"
   ],
   "metadata": {
    "collapsed": false,
    "pycharm": {
     "name": "#%%\n"
    }
   }
  },
  {
   "cell_type": "code",
   "execution_count": 36,
   "outputs": [],
   "source": [
    "op.to_csv('output.csv', index=False, header=True)"
   ],
   "metadata": {
    "collapsed": false,
    "pycharm": {
     "name": "#%%\n"
    }
   }
  },
  {
   "cell_type": "code",
   "execution_count": 37,
   "outputs": [
    {
     "data": {
      "text/plain": "   ImageId  Label\n0        1      2\n1        2      0\n2        3      9\n3        4      4\n4        5      3",
      "text/html": "<div>\n<style scoped>\n    .dataframe tbody tr th:only-of-type {\n        vertical-align: middle;\n    }\n\n    .dataframe tbody tr th {\n        vertical-align: top;\n    }\n\n    .dataframe thead th {\n        text-align: right;\n    }\n</style>\n<table border=\"1\" class=\"dataframe\">\n  <thead>\n    <tr style=\"text-align: right;\">\n      <th></th>\n      <th>ImageId</th>\n      <th>Label</th>\n    </tr>\n  </thead>\n  <tbody>\n    <tr>\n      <th>0</th>\n      <td>1</td>\n      <td>2</td>\n    </tr>\n    <tr>\n      <th>1</th>\n      <td>2</td>\n      <td>0</td>\n    </tr>\n    <tr>\n      <th>2</th>\n      <td>3</td>\n      <td>9</td>\n    </tr>\n    <tr>\n      <th>3</th>\n      <td>4</td>\n      <td>4</td>\n    </tr>\n    <tr>\n      <th>4</th>\n      <td>5</td>\n      <td>3</td>\n    </tr>\n  </tbody>\n</table>\n</div>"
     },
     "execution_count": 37,
     "metadata": {},
     "output_type": "execute_result"
    }
   ],
   "source": [
    "df = pd.read_csv('output.csv')\n",
    "df.head()"
   ],
   "metadata": {
    "collapsed": false,
    "pycharm": {
     "name": "#%%\n"
    }
   }
  },
  {
   "cell_type": "code",
   "execution_count": 38,
   "outputs": [],
   "source": [
    "# Final Score was 0.99628 ranked 88th"
   ],
   "metadata": {
    "collapsed": false,
    "pycharm": {
     "name": "#%%\n"
    }
   }
  }
 ],
 "metadata": {
  "kernelspec": {
   "display_name": "Python 3",
   "language": "python",
   "name": "python3"
  },
  "language_info": {
   "codemirror_mode": {
    "name": "ipython",
    "version": 2
   },
   "file_extension": ".py",
   "mimetype": "text/x-python",
   "name": "python",
   "nbconvert_exporter": "python",
   "pygments_lexer": "ipython2",
   "version": "2.7.6"
  }
 },
 "nbformat": 4,
 "nbformat_minor": 0
}